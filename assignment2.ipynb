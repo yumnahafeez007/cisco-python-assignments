{
 "cells": [
  {
   "cell_type": "code",
   "execution_count": 1,
   "metadata": {},
   "outputs": [
    {
     "name": "stdin",
     "output_type": "stream",
     "text": [
      "Enter first subject marks:  65\n",
      "Enter Second subject marks:  75\n",
      "Enter third subject marks:  80\n",
      "Enter fourth subject marks:  45\n",
      "Enter fifth subject marks:  83\n"
     ]
    },
    {
     "name": "stdout",
     "output_type": "stream",
     "text": [
      "C\n"
     ]
    }
   ],
   "source": [
    "#Write a program which takes 5 inputs from user for different subject’s\n",
    "#marks, total it and generate mark sheet using grades ?\n",
    "\n",
    "\n",
    "\n",
    "sub1 = int(input(\"Enter first subject marks: \"))\n",
    "sub2 = int(input(\"Enter Second subject marks: \"))\n",
    "sub3 = int(input(\"Enter third subject marks: \"))\n",
    "sub4 = int(input(\"Enter fourth subject marks: \"))\n",
    "sub5 = int(input(\"Enter fifth subject marks: \"))\n",
    "\n",
    "avg =  (sub1 + sub2 + sub3 + sub4+ sub5) / 5\n",
    "\n",
    "if(avg>=90):\n",
    "    print(\"A+\")\n",
    "elif(avg>=80 and avg<90):\n",
    "    print(\"A\")\n",
    "elif(avg>=70 and  avg<80):\n",
    "    print(\"B\")\n",
    "elif(avg>=60 and avg<70):\n",
    "    print(\"C\")\n",
    "else:\n",
    "    print(\"Fail\")"
   ]
  },
  {
   "cell_type": "code",
   "execution_count": 2,
   "metadata": {},
   "outputs": [
    {
     "name": "stdin",
     "output_type": "stream",
     "text": [
      "Enter number: 5\n"
     ]
    },
    {
     "name": "stdout",
     "output_type": "stream",
     "text": [
      "5 is Odd\n"
     ]
    }
   ],
   "source": [
    "# take number from user\n",
    "\n",
    "\n",
    "number  =  int(input('Enter number:'))\n",
    "\n",
    "if number % 2 == 0 :\n",
    "\tprint(strnu(mber)+\" is Even\")\n",
    "\n",
    "else:\n",
    "\tprint(str(number)+\" is Odd\")"
   ]
  },
  {
   "cell_type": "code",
   "execution_count": 5,
   "metadata": {},
   "outputs": [
    {
     "name": "stdin",
     "output_type": "stream",
     "text": [
      "Enter number: 4\n"
     ]
    },
    {
     "name": "stdout",
     "output_type": "stream",
     "text": [
      "4 is Even\n"
     ]
    }
   ],
   "source": [
    "# take number from user\n",
    "\n",
    "\n",
    "number  =  int(input('Enter number:'))\n",
    "\n",
    "if number % 2 == 0 :\n",
    "\tprint(str(number)+\" is Even\")\n",
    "\n",
    "else:\n",
    "\tprint(str(number)+\" is Odd\")"
   ]
  },
  {
   "cell_type": "code",
   "execution_count": 7,
   "metadata": {},
   "outputs": [
    {
     "name": "stdout",
     "output_type": "stream",
     "text": [
      "7\n"
     ]
    }
   ],
   "source": [
    "# length of list\n",
    "\n",
    "\n",
    "arr  =  ['a','b','c','d',1,2,3]\n",
    "\n",
    "length_of_list = len(arr)\n",
    "\n",
    "print(length_of_list)"
   ]
  },
  {
   "cell_type": "code",
   "execution_count": 8,
   "metadata": {},
   "outputs": [
    {
     "name": "stdout",
     "output_type": "stream",
     "text": [
      "14\n"
     ]
    }
   ],
   "source": [
    "# Write a Python program to sum all the numeric items in a list?\n",
    "\n",
    "\n",
    "\n",
    "array =  [1,5,8,'a','apple','d']\n",
    "result = 0 \n",
    "for a in array:\n",
    "\tif not(isinstance(a, str)):\n",
    "\t\tresult = result + a\n",
    "\n",
    "print(result)"
   ]
  },
  {
   "cell_type": "code",
   "execution_count": 9,
   "metadata": {},
   "outputs": [
    {
     "name": "stdout",
     "output_type": "stream",
     "text": [
      "Largest Number is: 99\n"
     ]
    }
   ],
   "source": [
    "#Write a Python program to get the largest number from a numeric list.\n",
    "\n",
    "array = [10, 20, 4, 45, 99] \n",
    "  \n",
    "  \n",
    "\n",
    "print(\"Largest Number is:\", max(array))"
   ]
  },
  {
   "cell_type": "code",
   "execution_count": 10,
   "metadata": {},
   "outputs": [
    {
     "name": "stdout",
     "output_type": "stream",
     "text": [
      "1\n",
      "1\n",
      "2\n",
      "3\n"
     ]
    }
   ],
   "source": [
    "#write a program that prints out all the elements of the list that are less than 5.\n",
    "\n",
    "\n",
    "a = [1, 1, 2, 3, 5, 8, 13, 21, 34, 55, 89]\n",
    "\n",
    "for i in a:\n",
    "\tif i < 5 :\n",
    "\t\tprint(i)"
   ]
  },
  {
   "cell_type": "code",
   "execution_count": null,
   "metadata": {},
   "outputs": [],
   "source": []
  }
 ],
 "metadata": {
  "kernelspec": {
   "display_name": "Python 3",
   "language": "python",
   "name": "python3"
  },
  "language_info": {
   "codemirror_mode": {
    "name": "ipython",
    "version": 3
   },
   "file_extension": ".py",
   "mimetype": "text/x-python",
   "name": "python",
   "nbconvert_exporter": "python",
   "pygments_lexer": "ipython3",
   "version": "3.7.3"
  }
 },
 "nbformat": 4,
 "nbformat_minor": 4
}
