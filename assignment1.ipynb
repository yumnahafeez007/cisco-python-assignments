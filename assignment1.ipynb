{
 "cells": [
  {
   "cell_type": "code",
   "execution_count": 1,
   "metadata": {},
   "outputs": [
    {
     "ename": "NameError",
     "evalue": "name 'python_version' is not defined",
     "output_type": "error",
     "traceback": [
      "\u001b[0;31m---------------------------------------------------------------------------\u001b[0m",
      "\u001b[0;31mNameError\u001b[0m                                 Traceback (most recent call last)",
      "\u001b[0;32m<ipython-input-1-dabf6c077bc5>\u001b[0m in \u001b[0;36m<module>\u001b[0;34m\u001b[0m\n\u001b[0;32m----> 1\u001b[0;31m \u001b[0mprint\u001b[0m\u001b[0;34m(\u001b[0m\u001b[0mpython_version\u001b[0m\u001b[0;34m(\u001b[0m\u001b[0;34m)\u001b[0m\u001b[0;34m)\u001b[0m\u001b[0;34m\u001b[0m\u001b[0;34m\u001b[0m\u001b[0m\n\u001b[0m",
      "\u001b[0;31mNameError\u001b[0m: name 'python_version' is not defined"
     ]
    }
   ],
   "source": [
    "print(python_version())"
   ]
  },
  {
   "cell_type": "code",
   "execution_count": 2,
   "metadata": {},
   "outputs": [
    {
     "name": "stdout",
     "output_type": "stream",
     "text": [
      "3.7.3\n"
     ]
    }
   ],
   "source": [
    "from platform import python_version\n",
    "print(python_version())"
   ]
  },
  {
   "cell_type": "code",
   "execution_count": 3,
   "metadata": {},
   "outputs": [
    {
     "name": "stdout",
     "output_type": "stream",
     "text": [
      "now = 2019-11-27 21:04:20.177979\n",
      "date and time = 27/11/2019 21:04:20\n"
     ]
    }
   ],
   "source": [
    "#Write a Python program to display the current date and time.\n",
    "\n",
    "from datetime import datetime\n",
    "\n",
    "now = datetime.now()\n",
    " \n",
    "print(\"now =\", now)\n",
    "# dd/mm/YY H:M:S\n",
    "date_time_format = now.strftime(\"%d/%m/%Y %H:%M:%S\")\n",
    "print(\"date and time =\", date_time_format)\t"
   ]
  },
  {
   "cell_type": "code",
   "execution_count": 4,
   "metadata": {},
   "outputs": [
    {
     "name": "stdin",
     "output_type": "stream",
     "text": [
      "Enter Radius of circle:  12\n"
     ]
    },
    {
     "name": "stdout",
     "output_type": "stream",
     "text": [
      "452.16\n"
     ]
    }
   ],
   "source": [
    "# Write a Python program which accepts the radius of a circle from the user\n",
    "#and compute the area.\n",
    "\n",
    "\n",
    "radius =  int(input('Enter Radius of circle: '))\n",
    "\n",
    "pi = 3.14\n",
    "\n",
    "area = pi * (radius**2)\n",
    "\n",
    "print(area)"
   ]
  },
  {
   "cell_type": "code",
   "execution_count": 5,
   "metadata": {},
   "outputs": [
    {
     "name": "stdin",
     "output_type": "stream",
     "text": [
      "Enter First name:  Mustabshir \n",
      "Enter Last name:  Khan\n"
     ]
    },
    {
     "name": "stdout",
     "output_type": "stream",
     "text": [
      " rihsbatsuM nahK\n"
     ]
    }
   ],
   "source": [
    "#Write a Python program which accepts the user's first and last name and\n",
    "#print them in reverse order with a space between them.\n",
    "\n",
    "first = input('Enter First name: ')\n",
    "last = input('Enter Last name: ')\n",
    "\n",
    "len_first =  len(first)\n",
    "reverse_first = first[len_first::-1]\n",
    "\n",
    "len_last =  len(last)\n",
    "reverse_last = last[len_last::-1]\n",
    "\n",
    "\n",
    "print(reverse_first+' '+reverse_last)"
   ]
  },
  {
   "cell_type": "code",
   "execution_count": 6,
   "metadata": {},
   "outputs": [
    {
     "name": "stdin",
     "output_type": "stream",
     "text": [
      "Enter 1st num:  12\n",
      "Enter 2nd num:  2\n"
     ]
    },
    {
     "name": "stdout",
     "output_type": "stream",
     "text": [
      "14\n"
     ]
    }
   ],
   "source": [
    "#Write a python program which takes two inputs from user and print them addition\n",
    "\n",
    "\n",
    "first_num = int(input('Enter 1st num: '))\n",
    "\n",
    "sec_num = int(input('Enter 2nd num: '))\n",
    "\n",
    "\n",
    "print(first_num + sec_num)"
   ]
  },
  {
   "cell_type": "code",
   "execution_count": null,
   "metadata": {},
   "outputs": [],
   "source": []
  }
 ],
 "metadata": {
  "kernelspec": {
   "display_name": "Python 3",
   "language": "python",
   "name": "python3"
  },
  "language_info": {
   "codemirror_mode": {
    "name": "ipython",
    "version": 3
   },
   "file_extension": ".py",
   "mimetype": "text/x-python",
   "name": "python",
   "nbconvert_exporter": "python",
   "pygments_lexer": "ipython3",
   "version": "3.7.3"
  }
 },
 "nbformat": 4,
 "nbformat_minor": 4
}
