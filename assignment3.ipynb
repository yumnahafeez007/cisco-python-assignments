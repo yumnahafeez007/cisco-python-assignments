{
 "cells": [
  {
   "cell_type": "code",
   "execution_count": 1,
   "metadata": {},
   "outputs": [
    {
     "name": "stdin",
     "output_type": "stream",
     "text": [
      "Enter 1st number:  2\n",
      "Enter 2nd number:  5\n",
      "Enter Operator:  +\n"
     ]
    },
    {
     "name": "stdout",
     "output_type": "stream",
     "text": [
      "7\n"
     ]
    }
   ],
   "source": [
    "num1 =  int(input('Enter 1st number: '))\n",
    "num2 =  int(input('Enter 2nd number: '))\n",
    "\n",
    "operator = input('Enter Operator: ')\n",
    "\n",
    "if operator == '+':\n",
    "\tprint(num1+num2)\n",
    "elif operator == '-':\n",
    "\tprint(num1-num2)\n",
    "elif operator == '*':\n",
    "\tprint(num1 * num2)\n",
    "elif operator == '/':\n",
    "\tprint(num1 / num2)"
   ]
  },
  {
   "cell_type": "code",
   "execution_count": 2,
   "metadata": {},
   "outputs": [
    {
     "name": "stdout",
     "output_type": "stream",
     "text": [
      "2 is numeric value\n",
      "458 is numeric value\n"
     ]
    }
   ],
   "source": [
    "# Write a program to check if there is any numeric value in list using for loop\n",
    "\n",
    "arr = ['abc','ymk','2','458','hhh']\n",
    "\n",
    "for x in arr:\n",
    "\tif (x.isnumeric()) == True:\n",
    "\t\tprint(x + ' is numeric value')"
   ]
  },
  {
   "cell_type": "code",
   "execution_count": 3,
   "metadata": {},
   "outputs": [
    {
     "name": "stdout",
     "output_type": "stream",
     "text": [
      "{'a': 2, 'b': 5}\n",
      "{'a': 2, 'b': 5, 'c': 500, 'd': 400}\n"
     ]
    }
   ],
   "source": [
    "#Write a Python script to add a key to a dictionary\n",
    "dictionary = {'a':2, 'b':5}\n",
    "print(dictionary)\n",
    "\n",
    "dictionary['c'] = 500\n",
    "dictionary['d'] = 400\n",
    "\n",
    "\n",
    "print(dictionary)"
   ]
  },
  {
   "cell_type": "code",
   "execution_count": 4,
   "metadata": {},
   "outputs": [
    {
     "name": "stdout",
     "output_type": "stream",
     "text": [
      "7\n"
     ]
    }
   ],
   "source": [
    "#Write a Python program to sum all the numeric items in a dictionary\n",
    "\n",
    "\n",
    "dictionary = {'a':'2', 'b':'5','c' : 'hello world'}\n",
    "result = 0\n",
    "\n",
    "for x in dictionary:\n",
    "\tif (dictionary[x].isnumeric()) == True :\n",
    "\t\tconvert_in_integer = int(dictionary[x])\n",
    "\t\tresult = result + convert_in_integer\n",
    "\n",
    "\n",
    "print(result) "
   ]
  },
  {
   "cell_type": "code",
   "execution_count": 5,
   "metadata": {},
   "outputs": [
    {
     "name": "stdout",
     "output_type": "stream",
     "text": [
      "[5]\n"
     ]
    }
   ],
   "source": [
    "#Write a program to identify duplicate values from list\n",
    "\n",
    "arr = [1, 5, 8, 5, 7, 6, 3]\n",
    "def find_duplicate(nums):\n",
    "    dublicates = []\n",
    "    nums.sort()\n",
    "    for i in range(len(nums)-1):\n",
    "       if nums[i] == nums[i+1]:\n",
    "          dublicates.append(nums[i])\n",
    "    return dublicates         \n",
    "\n",
    "\n",
    "\n",
    "print(find_duplicate(arr))    "
   ]
  },
  {
   "cell_type": "code",
   "execution_count": 6,
   "metadata": {},
   "outputs": [
    {
     "name": "stdout",
     "output_type": "stream",
     "text": [
      "Key is present in the dictionary\n"
     ]
    }
   ],
   "source": [
    "obj = {'a':2, 'b':5}\n",
    "\n",
    "def is_key_present(x, dictionary):\n",
    "  if x in dictionary:\n",
    "      print('Key is present in the dictionary')\n",
    "  else:\n",
    "      print('Key is not present in the dictionary')\n",
    "\n",
    "\n",
    "\n",
    "is_key_present('a', obj)"
   ]
  },
  {
   "cell_type": "code",
   "execution_count": null,
   "metadata": {},
   "outputs": [],
   "source": []
  }
 ],
 "metadata": {
  "kernelspec": {
   "display_name": "Python 3",
   "language": "python",
   "name": "python3"
  },
  "language_info": {
   "codemirror_mode": {
    "name": "ipython",
    "version": 3
   },
   "file_extension": ".py",
   "mimetype": "text/x-python",
   "name": "python",
   "nbconvert_exporter": "python",
   "pygments_lexer": "ipython3",
   "version": "3.7.3"
  }
 },
 "nbformat": 4,
 "nbformat_minor": 4
}
