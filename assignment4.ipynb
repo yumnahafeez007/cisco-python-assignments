{
 "cells": [
  {
   "cell_type": "code",
   "execution_count": 1,
   "metadata": {},
   "outputs": [
    {
     "name": "stdout",
     "output_type": "stream",
     "text": [
      "first_name: Mustabshir Khan\n",
      "last_name: Khan\n",
      "age: 25\n",
      "city: Karachi\n",
      "qualification: Matric\n",
      "\n",
      "\n",
      "first_name: Mustabshir Khan\n",
      "last_name: Khan\n",
      "age: 25\n",
      "city: Karachi\n",
      "qualification: BSSE\n",
      "\n",
      "\n",
      "first_name: Mustabshir Khan\n",
      "last_name: Khan\n",
      "age: 25\n",
      "city: Karachi\n",
      "\n",
      "\n"
     ]
    }
   ],
   "source": [
    "#question 1\n",
    "\n",
    "person = {\n",
    "    'first_name': 'Yumna ',\n",
    "    'last_name': 'Khan',\n",
    "    'age' : 25,\n",
    "    'city': 'Karachi'\n",
    "}\n",
    "\n",
    "# add new key to person dict \n",
    "person['qualification'] = 'Matric'\n",
    "\n",
    "#print dictionary\n",
    "for value in person:\n",
    "    print(value + \": \"+ str(person[value]))\n",
    "\n",
    "print(\"\\n\")\n",
    "\n",
    "#update person dict\n",
    "person.update(qualification='BSSE')\n",
    "\n",
    "for value in person:\n",
    "    print(value + \": \"+ str(person[value]))\n",
    "\n",
    "print(\"\\n\")\n",
    "\n",
    "#delete person dict\n",
    "person.pop('qualification')\n",
    "\n",
    "for value in person:\n",
    "    print(value + \": \"+ str(person[value]))\n",
    "\n",
    "print(\"\\n\")\n"
   ]
  },
  {
   "cell_type": "code",
   "execution_count": 2,
   "metadata": {},
   "outputs": [
    {
     "name": "stdout",
     "output_type": "stream",
     "text": [
      "City:Karachi\n",
      "population: 2 corers\n",
      "fact: City of Lights\n",
      "country: Pakistan\n",
      "\n",
      "\n",
      "City:London\n",
      "population: 9 corers\n",
      "fact: Queen Elizabeth\n",
      "country: England\n",
      "\n",
      "\n",
      "City:Berlin\n",
      "population: 4 corers\n",
      "fact: 110,00 dogs\n",
      "country: Germany\n",
      "\n",
      "\n"
     ]
    }
   ],
   "source": [
    "cities = {\n",
    "    'Karachi' : {\n",
    "        'population': '2 corers',\n",
    "        'fact' : 'City of Lights',\n",
    "        'country' : 'Pakistan'\n",
    "    },\n",
    "    'London' : {\n",
    "        'population' : '9 corers',\n",
    "        'fact' : 'Queen Elizabeth',\n",
    "        'country' : 'England'\n",
    "    },\n",
    "    'Berlin' : {\n",
    "        'population' : '4 corers',\n",
    "        'fact': '110,00 dogs',\n",
    "        'country' : 'Germany'\n",
    "    }\n",
    "}\n",
    "\n",
    "for city_name, city  in cities.items():\n",
    "    print('City:' + city_name)\n",
    "    for val in city:\n",
    "        print(val + \": \"+ city[val])\n",
    "    print(\"\\n\")"
   ]
  },
  {
   "cell_type": "code",
   "execution_count": 3,
   "metadata": {},
   "outputs": [
    {
     "name": "stdin",
     "output_type": "stream",
     "text": [
      "Enter age:  18\n"
     ]
    },
    {
     "name": "stdout",
     "output_type": "stream",
     "text": [
      "Your charges is 15\n"
     ]
    }
   ],
   "source": [
    "criteria = {\n",
    "    0: 'Free',\n",
    "    1: '10',\n",
    "    2: '15'\n",
    "}\n",
    "for val in criteria:\n",
    "    age =  int( input(\"Enter age: \") )\n",
    "\n",
    "    if (age < 3):\n",
    "        print(\"Your charges is \" + criteria[0])\n",
    "        break\n",
    "    elif (age >= 3 and age <= 12):\n",
    "        print(\"Your charges is \" + criteria[1])\n",
    "        break    \n",
    "    else: \n",
    "        print(\"Your charges is \" + criteria[2])\n",
    "        break"
   ]
  },
  {
   "cell_type": "code",
   "execution_count": 15,
   "metadata": {},
   "outputs": [
    {
     "name": "stdout",
     "output_type": "stream",
     "text": [
      "One of my favourite book is Hobbit\n"
     ]
    }
   ],
   "source": [
    "#question 4\n",
    "\n",
    "def favorite_book(title):\n",
    "    print(\"One of my favourite book is \"+ title)\n",
    "    \n",
    "favorite_book('Hobbit')    "
   ]
  },
  {
   "cell_type": "code",
   "execution_count": null,
   "metadata": {},
   "outputs": [],
   "source": [
    "#question 5\n",
    "from random import *\n",
    "\n",
    "value = randint(1, 30)\n",
    "\n",
    "for i in range(0,3):\n",
    "    # print('iteration' + str(i))\n",
    "      \n",
    "    guess = int(input(\"Guess your number: \"))\n",
    "    if (guess < value):\n",
    "        print(\"Hidden number is greater than your number\")\n",
    "    elif (guess > value):\n",
    "        print(\"Hidden number is less than your number\")\n",
    "    elif guess == value :\n",
    "        print(\"you won\")\n",
    "        break\n",
    "    else:\n",
    "        print(\"try again\")\n"
   ]
  },
  {
   "cell_type": "code",
   "execution_count": null,
   "metadata": {},
   "outputs": [],
   "source": []
  }
 ],
 "metadata": {
  "kernelspec": {
   "display_name": "Python 3",
   "language": "python",
   "name": "python3"
  },
  "language_info": {
   "codemirror_mode": {
    "name": "ipython",
    "version": 3
   },
   "file_extension": ".py",
   "mimetype": "text/x-python",
   "name": "python",
   "nbconvert_exporter": "python",
   "pygments_lexer": "ipython3",
   "version": "3.7.3"
  }
 },
 "nbformat": 4,
 "nbformat_minor": 4
}
